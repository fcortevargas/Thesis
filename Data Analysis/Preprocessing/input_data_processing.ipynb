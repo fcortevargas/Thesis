{
 "cells": [
  {
   "cell_type": "code",
   "execution_count": 1,
   "id": "86b82364-41d3-49c9-93e1-fb061ccac315",
   "metadata": {},
   "outputs": [],
   "source": [
    "import pandas as pd"
   ]
  },
  {
   "cell_type": "code",
   "execution_count": 2,
   "id": "373c3be7-dab7-4720-9e1c-59e09b4a2e03",
   "metadata": {},
   "outputs": [],
   "source": [
    "# Read the CSV file into a DataFrame\n",
    "file_path = '../Data/Raw/input_data.csv'\n",
    "df = pd.read_csv(file_path, header=0, index_col=0)"
   ]
  },
  {
   "cell_type": "code",
   "execution_count": 3,
   "id": "b2fb6c0d-37d2-4b94-a85e-8512a960b8a0",
   "metadata": {},
   "outputs": [],
   "source": [
    "df.insert(9, 'video_id', range(1,513))"
   ]
  },
  {
   "cell_type": "code",
   "execution_count": 4,
   "id": "abe38d49-db19-4ee3-a986-3d49a6557e47",
   "metadata": {},
   "outputs": [],
   "source": [
    "df.to_csv('../Data/Processed/video.csv', index=False)"
   ]
  }
 ],
 "metadata": {
  "kernelspec": {
   "display_name": "Python 3 (ipykernel)",
   "language": "python",
   "name": "python3"
  },
  "language_info": {
   "codemirror_mode": {
    "name": "ipython",
    "version": 3
   },
   "file_extension": ".py",
   "mimetype": "text/x-python",
   "name": "python",
   "nbconvert_exporter": "python",
   "pygments_lexer": "ipython3",
   "version": "3.11.7"
  }
 },
 "nbformat": 4,
 "nbformat_minor": 5
}
