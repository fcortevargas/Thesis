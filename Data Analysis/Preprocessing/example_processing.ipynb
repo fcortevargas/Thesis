{
 "cells": [
  {
   "cell_type": "code",
   "execution_count": 1,
   "id": "86b82364-41d3-49c9-93e1-fb061ccac315",
   "metadata": {},
   "outputs": [],
   "source": [
    "import pandas as pd\n",
    "pd.set_option('future.no_silent_downcasting', True)"
   ]
  },
  {
   "cell_type": "code",
   "execution_count": 2,
   "id": "373c3be7-dab7-4720-9e1c-59e09b4a2e03",
   "metadata": {},
   "outputs": [],
   "source": [
    "# Read the CSV file into a DataFrame\n",
    "file_path = '../Data/Raw/survey_data.csv'\n",
    "df = pd.read_csv(file_path, header=0, dtype=object)"
   ]
  },
  {
   "cell_type": "code",
   "execution_count": 3,
   "id": "81d5d66b-fd6e-4d3e-9c84-8134074437ec",
   "metadata": {},
   "outputs": [],
   "source": [
    "# Initialize a list to store processed rows\n",
    "processed_rows = []"
   ]
  },
  {
   "cell_type": "code",
   "execution_count": 4,
   "id": "37b3895f-6945-4e31-a27e-7489530191e8",
   "metadata": {},
   "outputs": [],
   "source": [
    "# Iterate through the rows to process each participant's data\n",
    "rows = df.iloc[2:,:].iterrows()\n",
    "\n",
    "for _, row in rows:\n",
    "    processed_row = {'participant_id': row.PROLIFIC_PID}\n",
    "    # Extract ratings from the example task\n",
    "    processed_row['example_joy'] = row.QID329_1\n",
    "    processed_row['example_sadness'] = row.QID329_2\n",
    "    processed_row['example_fear'] = row.QID329_3\n",
    "    processed_row['example_anger'] = row.QID329_4\n",
    "    processed_row['example_disgust'] = row.QID329_5\n",
    "    processed_row['example_surprise'] = row.QID329_6\n",
    "    processed_row['example_other'] = row.QID329_7\n",
    "    processed_row['example_other_text'] = row.QID329_7_TEXT\n",
    "    processed_row['example_pleasure'] = row.QID331\n",
    "    processed_row['example_arousal'] = row.QID332\n",
    "    processed_row['example_dominance'] = row.QID333\n",
    "    processed_row['example_appraisal'] = row.QID335\n",
    "    # Append the processed row to the list\n",
    "    processed_rows.append(processed_row)"
   ]
  },
  {
   "cell_type": "code",
   "execution_count": 5,
   "id": "6ec79550-ba4c-4b3c-9cde-63a97c8d6723",
   "metadata": {},
   "outputs": [],
   "source": [
    "# Create a new DataFrame from the processed data\n",
    "processed_df = pd.DataFrame(processed_rows)"
   ]
  },
  {
   "cell_type": "code",
   "execution_count": 6,
   "id": "0788d20a-cd4a-4d16-a3d0-8c88b7554299",
   "metadata": {},
   "outputs": [],
   "source": [
    "# Exclude participant 5f09fab615ee6b0ab5235b15 and 6632140e3df7840cd7a81131\n",
    "processed_df = processed_df.drop(processed_df[processed_df.participant_id == \"5f09fab615ee6b0ab5235b15\"].index)\n",
    "processed_df = processed_df.drop(processed_df[processed_df.participant_id == \"6632140e3df7840cd7a81131\"].index)\n",
    "processed_df = processed_df.drop(processed_df[processed_df.participant_id == \"5c61cbf25434430001870681\"].index)\n",
    "processed_df = processed_df.drop(processed_df[processed_df.participant_id == \"6278270bfb2439bf3abf192d\"].index)"
   ]
  },
  {
   "cell_type": "code",
   "execution_count": 7,
   "id": "a132ca2e-527a-49dd-bf6d-620239aee5b7",
   "metadata": {},
   "outputs": [],
   "source": [
    "processed_df = processed_df.replace(['Very Low', 'Low', 'Average', 'High', 'Very High'], [1, 2, 3, 4, 5])"
   ]
  },
  {
   "cell_type": "code",
   "execution_count": 8,
   "id": "82bb741b-062b-4d13-8145-6f3e7392076b",
   "metadata": {},
   "outputs": [],
   "source": [
    "num_cols = ['example_joy', 'example_sadness', 'example_fear', 'example_anger', 'example_disgust', \n",
    "            'example_surprise', 'example_other', 'example_pleasure', 'example_arousal', 'example_dominance']\n",
    "processed_df[num_cols] = processed_df[num_cols].astype(float)"
   ]
  },
  {
   "cell_type": "code",
   "execution_count": 9,
   "id": "db40d0df-4372-4fad-a94e-88f9f8ac0cd8",
   "metadata": {},
   "outputs": [
    {
     "data": {
      "text/plain": [
       "participant_id         object\n",
       "example_joy           float64\n",
       "example_sadness       float64\n",
       "example_fear          float64\n",
       "example_anger         float64\n",
       "example_disgust       float64\n",
       "example_surprise      float64\n",
       "example_other         float64\n",
       "example_other_text     object\n",
       "example_pleasure      float64\n",
       "example_arousal       float64\n",
       "example_dominance     float64\n",
       "example_appraisal      object\n",
       "dtype: object"
      ]
     },
     "execution_count": 9,
     "metadata": {},
     "output_type": "execute_result"
    }
   ],
   "source": [
    "processed_df.dtypes"
   ]
  },
  {
   "cell_type": "code",
   "execution_count": 10,
   "id": "2ccfbf1c-b7b2-4dc2-bcb9-e47e0b3de61d",
   "metadata": {},
   "outputs": [],
   "source": [
    "# Save the processed data to a new CSV file\n",
    "processed_df.to_csv('../Data/Processed/example.csv', index=False)"
   ]
  },
  {
   "cell_type": "code",
   "execution_count": 11,
   "id": "c9b8f332-1ec7-4571-8f32-7b9f0d7cabc1",
   "metadata": {},
   "outputs": [
    {
     "data": {
      "text/html": [
       "<div>\n",
       "<style scoped>\n",
       "    .dataframe tbody tr th:only-of-type {\n",
       "        vertical-align: middle;\n",
       "    }\n",
       "\n",
       "    .dataframe tbody tr th {\n",
       "        vertical-align: top;\n",
       "    }\n",
       "\n",
       "    .dataframe thead th {\n",
       "        text-align: right;\n",
       "    }\n",
       "</style>\n",
       "<table border=\"1\" class=\"dataframe\">\n",
       "  <thead>\n",
       "    <tr style=\"text-align: right;\">\n",
       "      <th></th>\n",
       "      <th>participant_id</th>\n",
       "      <th>example_joy</th>\n",
       "      <th>example_sadness</th>\n",
       "      <th>example_fear</th>\n",
       "      <th>example_anger</th>\n",
       "      <th>example_disgust</th>\n",
       "      <th>example_surprise</th>\n",
       "      <th>example_other</th>\n",
       "      <th>example_other_text</th>\n",
       "      <th>example_pleasure</th>\n",
       "      <th>example_arousal</th>\n",
       "      <th>example_dominance</th>\n",
       "      <th>example_appraisal</th>\n",
       "    </tr>\n",
       "  </thead>\n",
       "  <tbody>\n",
       "  </tbody>\n",
       "</table>\n",
       "</div>"
      ],
      "text/plain": [
       "Empty DataFrame\n",
       "Columns: [participant_id, example_joy, example_sadness, example_fear, example_anger, example_disgust, example_surprise, example_other, example_other_text, example_pleasure, example_arousal, example_dominance, example_appraisal]\n",
       "Index: []"
      ]
     },
     "execution_count": 11,
     "metadata": {},
     "output_type": "execute_result"
    }
   ],
   "source": [
    "processed_df[processed_df.participant_id == '65bd29a33fe10dcc8e183b52']"
   ]
  }
 ],
 "metadata": {
  "kernelspec": {
   "display_name": "Python 3 (ipykernel)",
   "language": "python",
   "name": "python3"
  },
  "language_info": {
   "codemirror_mode": {
    "name": "ipython",
    "version": 3
   },
   "file_extension": ".py",
   "mimetype": "text/x-python",
   "name": "python",
   "nbconvert_exporter": "python",
   "pygments_lexer": "ipython3",
   "version": "3.11.7"
  }
 },
 "nbformat": 4,
 "nbformat_minor": 5
}
