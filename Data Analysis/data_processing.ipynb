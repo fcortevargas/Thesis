{
 "cells": [
  {
   "cell_type": "code",
   "execution_count": 1,
   "id": "246543e1-79b2-4ba2-b293-baddeab8302e",
   "metadata": {},
   "outputs": [],
   "source": [
    "import pandas as pd\n",
    "\n",
    "# Read the CSV file into a DataFrame\n",
    "file_path = 'survey_data.csv'\n",
    "df = pd.read_csv(file_path, header=0)\n",
    "\n",
    "# Define the list of rating columns\n",
    "ratings_cols = ['joy', 'sadness', 'fear', 'anger', 'disgust', 'surprise', 'other', 'other_text', 'pleasure', 'arousal', 'dominance', 'appraisal']\n",
    "\n",
    "# Define the number of videos and columns per video\n",
    "num_videos = 10\n",
    "cols_per_video = 16\n",
    "\n",
    "# Define a function to extract the video identifier from the column index\n",
    "def extract_video_id(col_index):\n",
    "    return (col_index - 43) // cols_per_video + 1\n",
    "\n",
    "# Initialize a list to store processed rows\n",
    "processed_rows = []\n",
    "\n",
    "# Iterate through rows to process each participant's data\n",
    "video_rows = df.iloc[2:,:].iterrows()\n",
    "\n",
    "for _, row in video_rows:\n",
    "    # Set to store the video IDs for the current participant\n",
    "    videos_to_keep = set()\n",
    "    # Iterate through columns to identify videos with non-null values\n",
    "    for col_index in range(43, 8235, cols_per_video):\n",
    "        non_none_indices = row.iloc[col_index:col_index + cols_per_video].dropna().index\n",
    "        if len(non_none_indices) > 0:\n",
    "            video_id = extract_video_id(col_index)\n",
    "            videos_to_keep.add(video_id) \n",
    "    \n",
    "    # List to store column indices to keep for the current participant\n",
    "    columns_to_keep = []\n",
    "    for video_id in sorted(videos_to_keep):\n",
    "        start_col = 43 + (video_id - 1) * cols_per_video\n",
    "        end_col = start_col + cols_per_video\n",
    "        columns_to_keep.extend(range(start_col + 4, end_col))\n",
    "        \n",
    "    # Extract data for columns to keep\n",
    "    video_data = row.iloc[columns_to_keep]\n",
    "\n",
    "    # Construct the processed row\n",
    "    processed_row = {}\n",
    "    i = 1\n",
    "    for video_id in sorted(videos_to_keep):\n",
    "        processed_row[f'video_{i}_id'] = video_id\n",
    "        processed_row.update({f'video_{i}_{col}': val for col, val in zip(ratings_cols, video_data)})\n",
    "        i += 1\n",
    "    \n",
    "    # Append the processed row to the list\n",
    "    processed_rows.append(processed_row)\n",
    "\n",
    "# Create a new DataFrame from the processed data\n",
    "processed_df = pd.DataFrame(processed_rows)\n",
    "\n",
    "# Save the processed data to a new CSV file\n",
    "processed_df.to_csv('processed_data.csv', index=False)"
   ]
  },
  {
   "cell_type": "code",
   "execution_count": 2,
   "id": "98acccf0-d16d-42a0-8c5b-44e54e33746d",
   "metadata": {},
   "outputs": [
    {
     "data": {
      "text/plain": [
       "0     42\n",
       "1     40\n",
       "2     40\n",
       "3     39\n",
       "4     40\n",
       "5     40\n",
       "6     47\n",
       "7     40\n",
       "8     40\n",
       "9     53\n",
       "10    41\n",
       "Name: video_1_id, dtype: int64"
      ]
     },
     "execution_count": 2,
     "metadata": {},
     "output_type": "execute_result"
    }
   ],
   "source": [
    "processed_df.video_1_id"
   ]
  },
  {
   "cell_type": "code",
   "execution_count": 3,
   "id": "6742c3c6-84f9-4130-889a-b24cab76c1fd",
   "metadata": {},
   "outputs": [
    {
     "data": {
      "text/plain": [
       "0     99\n",
       "1     99\n",
       "2     99\n",
       "3     99\n",
       "4     99\n",
       "5     99\n",
       "6     99\n",
       "7     99\n",
       "8     99\n",
       "9     99\n",
       "10    99\n",
       "Name: video_2_id, dtype: int64"
      ]
     },
     "execution_count": 3,
     "metadata": {},
     "output_type": "execute_result"
    }
   ],
   "source": [
    "processed_df.video_2_id"
   ]
  },
  {
   "cell_type": "code",
   "execution_count": 4,
   "id": "9e5db121-5ace-4cf6-9383-4e8bb0789d54",
   "metadata": {},
   "outputs": [
    {
     "data": {
      "text/plain": [
       "0     207\n",
       "1     207\n",
       "2     207\n",
       "3     207\n",
       "4     207\n",
       "5     207\n",
       "6     207\n",
       "7     207\n",
       "8     207\n",
       "9     207\n",
       "10    207\n",
       "Name: video_3_id, dtype: int64"
      ]
     },
     "execution_count": 4,
     "metadata": {},
     "output_type": "execute_result"
    },
    {
     "name": "stdout",
     "output_type": "stream",
     "text": [
      "ERROR! Session/line number was not unique in database. History logging moved to new session 4\n"
     ]
    }
   ],
   "source": [
    "processed_df.video_3_id"
   ]
  },
  {
   "cell_type": "code",
   "execution_count": 5,
   "id": "336534bd-a869-4284-a9f5-c15dfd16203f",
   "metadata": {},
   "outputs": [
    {
     "data": {
      "text/plain": [
       "0     214\n",
       "1     214\n",
       "2     214\n",
       "3     214\n",
       "4     214\n",
       "5     214\n",
       "6     214\n",
       "7     214\n",
       "8     214\n",
       "9     214\n",
       "10    214\n",
       "Name: video_4_id, dtype: int64"
      ]
     },
     "execution_count": 5,
     "metadata": {},
     "output_type": "execute_result"
    }
   ],
   "source": [
    "processed_df.video_4_id"
   ]
  },
  {
   "cell_type": "code",
   "execution_count": 6,
   "id": "30cf61ab-9859-4767-8134-7d362cb531c7",
   "metadata": {},
   "outputs": [
    {
     "data": {
      "text/plain": [
       "0     278\n",
       "1     278\n",
       "2     278\n",
       "3     278\n",
       "4     278\n",
       "5     278\n",
       "6     278\n",
       "7     278\n",
       "8     278\n",
       "9     278\n",
       "10    278\n",
       "Name: video_5_id, dtype: int64"
      ]
     },
     "execution_count": 6,
     "metadata": {},
     "output_type": "execute_result"
    }
   ],
   "source": [
    "processed_df.video_5_id"
   ]
  },
  {
   "cell_type": "code",
   "execution_count": 7,
   "id": "74f36fe2-4cac-43ee-8690-db0b5c34f5d2",
   "metadata": {},
   "outputs": [
    {
     "data": {
      "text/plain": [
       "0     312\n",
       "1     312\n",
       "2     312\n",
       "3     312\n",
       "4     312\n",
       "5     312\n",
       "6     312\n",
       "7     312\n",
       "8     312\n",
       "9     312\n",
       "10    312\n",
       "Name: video_6_id, dtype: int64"
      ]
     },
     "execution_count": 7,
     "metadata": {},
     "output_type": "execute_result"
    }
   ],
   "source": [
    "processed_df.video_6_id"
   ]
  },
  {
   "cell_type": "code",
   "execution_count": 8,
   "id": "e37d453e-25fd-423f-a694-c544173728e7",
   "metadata": {},
   "outputs": [
    {
     "data": {
      "text/plain": [
       "0     322\n",
       "1     322\n",
       "2     322\n",
       "3     322\n",
       "4     322\n",
       "5     322\n",
       "6     322\n",
       "7     322\n",
       "8     322\n",
       "9     322\n",
       "10    322\n",
       "Name: video_7_id, dtype: int64"
      ]
     },
     "execution_count": 8,
     "metadata": {},
     "output_type": "execute_result"
    }
   ],
   "source": [
    "processed_df.video_7_id"
   ]
  },
  {
   "cell_type": "code",
   "execution_count": 9,
   "id": "69322106-c814-4cf1-940e-f3b65e790e25",
   "metadata": {},
   "outputs": [
    {
     "data": {
      "text/plain": [
       "0     442\n",
       "1     442\n",
       "2     442\n",
       "3     442\n",
       "4     442\n",
       "5     442\n",
       "6     442\n",
       "7     442\n",
       "8     442\n",
       "9     442\n",
       "10    442\n",
       "Name: video_8_id, dtype: int64"
      ]
     },
     "execution_count": 9,
     "metadata": {},
     "output_type": "execute_result"
    }
   ],
   "source": [
    "processed_df.video_8_id"
   ]
  },
  {
   "cell_type": "code",
   "execution_count": 10,
   "id": "b7e1ad96-d555-4296-9d01-f56b37558bdc",
   "metadata": {},
   "outputs": [
    {
     "data": {
      "text/plain": [
       "0     479\n",
       "1     479\n",
       "2     479\n",
       "3     479\n",
       "4     479\n",
       "5     479\n",
       "6     479\n",
       "7     479\n",
       "8     479\n",
       "9     479\n",
       "10    479\n",
       "Name: video_9_id, dtype: int64"
      ]
     },
     "execution_count": 10,
     "metadata": {},
     "output_type": "execute_result"
    }
   ],
   "source": [
    "processed_df.video_9_id"
   ]
  },
  {
   "cell_type": "code",
   "execution_count": 11,
   "id": "e645b62a-0d50-4781-a7f5-2ad963393b28",
   "metadata": {},
   "outputs": [
    {
     "data": {
      "text/plain": [
       "0     491\n",
       "1     491\n",
       "2     491\n",
       "3     491\n",
       "4     491\n",
       "5     491\n",
       "6     491\n",
       "7     491\n",
       "8     491\n",
       "9     491\n",
       "10    491\n",
       "Name: video_10_id, dtype: int64"
      ]
     },
     "execution_count": 11,
     "metadata": {},
     "output_type": "execute_result"
    }
   ],
   "source": [
    "processed_df.video_10_id"
   ]
  }
 ],
 "metadata": {
  "kernelspec": {
   "display_name": "Python 3 (ipykernel)",
   "language": "python",
   "name": "python3"
  },
  "language_info": {
   "codemirror_mode": {
    "name": "ipython",
    "version": 3
   },
   "file_extension": ".py",
   "mimetype": "text/x-python",
   "name": "python",
   "nbconvert_exporter": "python",
   "pygments_lexer": "ipython3",
   "version": "3.11.7"
  }
 },
 "nbformat": 4,
 "nbformat_minor": 5
}
